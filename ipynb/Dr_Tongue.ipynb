{
  "nbformat": 4,
  "nbformat_minor": 2,
  "metadata": {
    "colab": {
      "name": "Dr_Tongue.ipynb",
      "provenance": [],
      "collapsed_sections": []
    },
    "kernelspec": {
      "name": "python3",
      "display_name": "Python 3.8.5 64-bit ('base': conda)"
    },
    "language_info": {
      "name": "python",
      "version": "3.8.5",
      "mimetype": "text/x-python",
      "codemirror_mode": {
        "name": "ipython",
        "version": 3
      },
      "pygments_lexer": "ipython3",
      "nbconvert_exporter": "python",
      "file_extension": ".py"
    },
    "interpreter": {
      "hash": "b3ba2566441a7c06988d0923437866b63cedc61552a5af99d1f4fb67d367b25f"
    }
  },
  "cells": [
    {
      "cell_type": "markdown",
      "source": [
        "## Installing libraries and Dependencies\r\n",
        "\r\n",
        "### Uncomment and run the following code block to install all required dependencies"
      ],
      "metadata": {}
    },
    {
      "cell_type": "code",
      "execution_count": 1,
      "source": [
        "# !pip install keras\r\n",
        "# !pip install numpy\r\n",
        "# !pip install gradio\r\n",
        "# !pip install tensorflow\r\n",
        "# !pip install matplotlib\r\n",
        "# !pip install scikit-learn \r\n",
        "# !pip install opencv-python"
      ],
      "outputs": [],
      "metadata": {}
    },
    {
      "cell_type": "markdown",
      "source": [
        "## Importing libraries"
      ],
      "metadata": {}
    },
    {
      "cell_type": "code",
      "execution_count": 2,
      "source": [
        "import cv2\r\n",
        "import os\r\n",
        "import numpy as np\r\n",
        "\r\n",
        "import gradio as gr\r\n",
        "\r\n",
        "import matplotlib.pyplot as plt\r\n",
        "\r\n",
        "import tensorflow as tf\r\n",
        "from keras.optimizers import Adam\r\n",
        "from keras.models import Sequential\r\n",
        " \r\n",
        "from keras.preprocessing.image import ImageDataGenerator\r\n",
        "from keras.layers import Dense, Conv2D, MaxPool2D, Flatten, Dropout\r\n",
        "\r\n",
        "from sklearn.metrics import classification_report"
      ],
      "outputs": [
        {
          "output_type": "stream",
          "name": "stderr",
          "text": [
            "C:\\ProgramData\\Anaconda3\\lib\\site-packages\\numpy\\_distributor_init.py:30: UserWarning: loaded more than 1 DLL from .libs:\n",
            "C:\\ProgramData\\Anaconda3\\lib\\site-packages\\numpy\\.libs\\libopenblas.PYQHXLVVQ7VESDPUVUADXEVJOBGHJPAY.gfortran-win_amd64.dll\n",
            "C:\\ProgramData\\Anaconda3\\lib\\site-packages\\numpy\\.libs\\libopenblas.WCDJNK7YVMPZQ2ME2ZZHJJRJ3JIKNDB7.gfortran-win_amd64.dll\n",
            "  warnings.warn(\"loaded more than 1 DLL from .libs:\"\n"
          ]
        }
      ],
      "metadata": {}
    },
    {
      "cell_type": "markdown",
      "source": [
        "## Defining the `get_data` function to get data from the directory"
      ],
      "metadata": {}
    },
    {
      "cell_type": "code",
      "execution_count": 3,
      "source": [
        "labels = ['red', 'black', 'geographic', 'normal', 'yellow'] # titles of subfolders\r\n",
        "img_size = 120 # input image size\r\n",
        "\r\n",
        "def get_data(data_dir):\r\n",
        "    data = [] \r\n",
        "    for label in labels: \r\n",
        "        path = os.path.join(data_dir, label)\r\n",
        "        class_num = labels.index(label)\r\n",
        "        for img in os.listdir(path):\r\n",
        "            try:\r\n",
        "                img_arr = cv2.imread(os.path.join(path, img))[...,::-1] #convert BGR to RGB format\r\n",
        "                resized_arr = cv2.resize(img_arr, (img_size, img_size)) # Reshaping images to preferred size\r\n",
        "                data.append([resized_arr, class_num])\r\n",
        "            except Exception as e:\r\n",
        "                print(e)\r\n",
        "    return np.array(data, dtype=object)"
      ],
      "outputs": [],
      "metadata": {
        "id": "HO44eik8ms4p"
      }
    },
    {
      "cell_type": "markdown",
      "source": [
        "## Defining training and validation directories"
      ],
      "metadata": {}
    },
    {
      "cell_type": "code",
      "execution_count": 4,
      "source": [
        "train = get_data('/Dr. Tongue/data/train')\r\n",
        "val = get_data('/Dr. Tongue/data/test/')"
      ],
      "outputs": [],
      "metadata": {
        "colab": {
          "base_uri": "https://localhost:8080/",
          "height": 305
        },
        "id": "-r2x_dYEnA3Y",
        "outputId": "4c125064-f28a-49b1-e712-00f26f55b071"
      }
    },
    {
      "cell_type": "markdown",
      "source": [
        "## Generating the features and labels from the data and normalizing it"
      ],
      "metadata": {}
    },
    {
      "cell_type": "code",
      "execution_count": 5,
      "source": [
        "x_train = []\r\n",
        "y_train = []\r\n",
        "x_val = []\r\n",
        "y_val = []\r\n",
        "\r\n",
        "for feature, label in train:\r\n",
        "  x_train.append(feature)\r\n",
        "  y_train.append(label)\r\n",
        "\r\n",
        "for feature, label in val:\r\n",
        "  x_val.append(feature)\r\n",
        "  y_val.append(label)\r\n",
        "\r\n",
        "# Normalize the data\r\n",
        "x_train = np.array(x_train) / 255\r\n",
        "x_val = np.array(x_val) / 255\r\n",
        "\r\n",
        "x_train.reshape(-1, img_size, img_size, 1)\r\n",
        "y_train = np.array(y_train)\r\n",
        "\r\n",
        "x_val.reshape(-1, img_size, img_size, 1)\r\n",
        "y_val = np.array(y_val)"
      ],
      "outputs": [],
      "metadata": {
        "id": "XqVK--ygsGh6",
        "colab": {
          "base_uri": "https://localhost:8080/",
          "height": 235
        },
        "outputId": "d122c32e-7d07-4d43-defe-3b7ffd97474e"
      }
    },
    {
      "cell_type": "markdown",
      "source": [
        "## Data Augmentation"
      ],
      "metadata": {}
    },
    {
      "cell_type": "code",
      "execution_count": 6,
      "source": [
        "datagen = ImageDataGenerator(\r\n",
        "        featurewise_center=False,  # set input mean to 0 over the dataset\r\n",
        "        samplewise_center=False,  # set each sample mean to 0\r\n",
        "        featurewise_std_normalization=False,  # divide inputs by std of the dataset\r\n",
        "        samplewise_std_normalization=False,  # divide each input by its std\r\n",
        "        zca_whitening=False,  # apply ZCA whitening\r\n",
        "        rotation_range = 30,  # randomly rotate images in the range (degrees, 0 to 180)\r\n",
        "        zoom_range = 0.2, # Randomly zoom image \r\n",
        "        width_shift_range=0.1,  # randomly shift images horizontally (fraction of total width)\r\n",
        "        height_shift_range=0.1,  # randomly shift images vertically (fraction of total height)\r\n",
        "        horizontal_flip = True,  # randomly flip images\r\n",
        "        vertical_flip=False)  # randomly flip images\r\n",
        "\r\n",
        "datagen.fit(x_train)   "
      ],
      "outputs": [],
      "metadata": {
        "id": "7rB8WNwhsRWU"
      }
    },
    {
      "cell_type": "markdown",
      "source": [
        "## Model Definition"
      ],
      "metadata": {}
    },
    {
      "cell_type": "code",
      "execution_count": 7,
      "source": [
        "model = Sequential()\r\n",
        "model.add(Conv2D(32,3,padding=\"same\", activation=\"relu\", input_shape=(120,120,3)))\r\n",
        "model.add(MaxPool2D())\r\n",
        "\r\n",
        "model.add(Conv2D(32, 3, padding=\"same\", activation=\"relu\"))\r\n",
        "model.add(MaxPool2D())\r\n",
        "\r\n",
        "model.add(Conv2D(64, 3, padding=\"same\", activation=\"relu\"))\r\n",
        "model.add(MaxPool2D())\r\n",
        "model.add(Dropout(0.4))\r\n",
        "\r\n",
        "model.add(Flatten())\r\n",
        "model.add(Dense(128,activation=\"relu\"))\r\n",
        "model.add(Dense(5, activation=\"softmax\"))\r\n",
        "\r\n",
        "model.summary()"
      ],
      "outputs": [
        {
          "output_type": "stream",
          "name": "stdout",
          "text": [
            "Model: \"sequential\"\n",
            "_________________________________________________________________\n",
            "Layer (type)                 Output Shape              Param #   \n",
            "=================================================================\n",
            "conv2d (Conv2D)              (None, 120, 120, 32)      896       \n",
            "_________________________________________________________________\n",
            "max_pooling2d (MaxPooling2D) (None, 60, 60, 32)        0         \n",
            "_________________________________________________________________\n",
            "conv2d_1 (Conv2D)            (None, 60, 60, 32)        9248      \n",
            "_________________________________________________________________\n",
            "max_pooling2d_1 (MaxPooling2 (None, 30, 30, 32)        0         \n",
            "_________________________________________________________________\n",
            "conv2d_2 (Conv2D)            (None, 30, 30, 64)        18496     \n",
            "_________________________________________________________________\n",
            "max_pooling2d_2 (MaxPooling2 (None, 15, 15, 64)        0         \n",
            "_________________________________________________________________\n",
            "dropout (Dropout)            (None, 15, 15, 64)        0         \n",
            "_________________________________________________________________\n",
            "flatten (Flatten)            (None, 14400)             0         \n",
            "_________________________________________________________________\n",
            "dense (Dense)                (None, 128)               1843328   \n",
            "_________________________________________________________________\n",
            "dense_1 (Dense)              (None, 5)                 645       \n",
            "=================================================================\n",
            "Total params: 1,872,613\n",
            "Trainable params: 1,872,613\n",
            "Non-trainable params: 0\n",
            "_________________________________________________________________\n"
          ]
        }
      ],
      "metadata": {
        "id": "4BbPuhQwsU5Y"
      }
    },
    {
      "cell_type": "markdown",
      "source": [
        "## Model Compilation"
      ],
      "metadata": {}
    },
    {
      "cell_type": "code",
      "execution_count": 8,
      "source": [
        "opt = Adam(learning_rate=0.0005)\r\n",
        "model.compile(optimizer = opt , loss = tf.keras.losses.SparseCategoricalCrossentropy(from_logits=True) , metrics = ['accuracy'])"
      ],
      "outputs": [],
      "metadata": {
        "id": "5j2n06omsbmY"
      }
    },
    {
      "cell_type": "markdown",
      "source": [
        "## Model fitting"
      ],
      "metadata": {}
    },
    {
      "cell_type": "code",
      "execution_count": 9,
      "source": [
        "history = model.fit(x_train,y_train, epochs = 25, validation_data = (x_val, y_val))"
      ],
      "outputs": [
        {
          "output_type": "stream",
          "name": "stdout",
          "text": [
            "Epoch 1/25\n"
          ]
        },
        {
          "output_type": "stream",
          "name": "stderr",
          "text": [
            "C:\\ProgramData\\Anaconda3\\lib\\site-packages\\tensorflow\\python\\keras\\backend.py:4929: UserWarning: \"`sparse_categorical_crossentropy` received `from_logits=True`, but the `output` argument was produced by a sigmoid or softmax activation and thus does not represent logits. Was this intended?\"\n",
            "  warnings.warn(\n"
          ]
        },
        {
          "output_type": "stream",
          "name": "stdout",
          "text": [
            "4/4 [==============================] - 37s 1s/step - loss: 1.6725 - accuracy: 0.1871 - val_loss: 1.5874 - val_accuracy: 0.2500\n",
            "Epoch 2/25\n",
            "4/4 [==============================] - 3s 779ms/step - loss: 1.5801 - accuracy: 0.3243 - val_loss: 1.5712 - val_accuracy: 0.4545\n",
            "Epoch 3/25\n",
            "4/4 [==============================] - 3s 741ms/step - loss: 1.5641 - accuracy: 0.4384 - val_loss: 1.5112 - val_accuracy: 0.5227\n",
            "Epoch 4/25\n",
            "4/4 [==============================] - 3s 750ms/step - loss: 1.4882 - accuracy: 0.5846 - val_loss: 1.4405 - val_accuracy: 0.5909\n",
            "Epoch 5/25\n",
            "4/4 [==============================] - 3s 743ms/step - loss: 1.3829 - accuracy: 0.7074 - val_loss: 1.2838 - val_accuracy: 0.6591\n",
            "Epoch 6/25\n",
            "4/4 [==============================] - 3s 735ms/step - loss: 1.2158 - accuracy: 0.6744 - val_loss: 1.1375 - val_accuracy: 0.5909\n",
            "Epoch 7/25\n",
            "4/4 [==============================] - 3s 749ms/step - loss: 1.0038 - accuracy: 0.7296 - val_loss: 0.9511 - val_accuracy: 0.7500\n",
            "Epoch 8/25\n",
            "4/4 [==============================] - 3s 741ms/step - loss: 0.8086 - accuracy: 0.7574 - val_loss: 0.8892 - val_accuracy: 0.6364\n",
            "Epoch 9/25\n",
            "4/4 [==============================] - 3s 790ms/step - loss: 0.6509 - accuracy: 0.8023 - val_loss: 0.9254 - val_accuracy: 0.5909\n",
            "Epoch 10/25\n",
            "4/4 [==============================] - 3s 896ms/step - loss: 0.5857 - accuracy: 0.8005 - val_loss: 0.8257 - val_accuracy: 0.7045\n",
            "Epoch 11/25\n",
            "4/4 [==============================] - 3s 676ms/step - loss: 0.5047 - accuracy: 0.8148 - val_loss: 1.1355 - val_accuracy: 0.5455\n",
            "Epoch 12/25\n",
            "4/4 [==============================] - 3s 682ms/step - loss: 0.4461 - accuracy: 0.8398 - val_loss: 1.0214 - val_accuracy: 0.6818\n",
            "Epoch 13/25\n",
            "4/4 [==============================] - 3s 693ms/step - loss: 0.5980 - accuracy: 0.8367 - val_loss: 0.9263 - val_accuracy: 0.5682\n",
            "Epoch 14/25\n",
            "4/4 [==============================] - 3s 690ms/step - loss: 0.3708 - accuracy: 0.8848 - val_loss: 0.7373 - val_accuracy: 0.7500\n",
            "Epoch 15/25\n",
            "4/4 [==============================] - 3s 690ms/step - loss: 0.3317 - accuracy: 0.8662 - val_loss: 0.7091 - val_accuracy: 0.8182\n",
            "Epoch 16/25\n",
            "4/4 [==============================] - 3s 805ms/step - loss: 0.3165 - accuracy: 0.9136 - val_loss: 0.7127 - val_accuracy: 0.6818\n",
            "Epoch 17/25\n",
            "4/4 [==============================] - 3s 732ms/step - loss: 0.2472 - accuracy: 0.9362 - val_loss: 0.7563 - val_accuracy: 0.7955\n",
            "Epoch 18/25\n",
            "4/4 [==============================] - 3s 696ms/step - loss: 0.2302 - accuracy: 0.9386 - val_loss: 0.7990 - val_accuracy: 0.6818\n",
            "Epoch 19/25\n",
            "4/4 [==============================] - 3s 709ms/step - loss: 0.1796 - accuracy: 0.9828 - val_loss: 0.5977 - val_accuracy: 0.7727\n",
            "Epoch 20/25\n",
            "4/4 [==============================] - 3s 707ms/step - loss: 0.1619 - accuracy: 0.9533 - val_loss: 0.7217 - val_accuracy: 0.7727\n",
            "Epoch 21/25\n",
            "4/4 [==============================] - 3s 677ms/step - loss: 0.1100 - accuracy: 0.9967 - val_loss: 0.7703 - val_accuracy: 0.7955\n",
            "Epoch 22/25\n",
            "4/4 [==============================] - 3s 703ms/step - loss: 0.0978 - accuracy: 0.9861 - val_loss: 0.6461 - val_accuracy: 0.7727\n",
            "Epoch 23/25\n",
            "4/4 [==============================] - 3s 677ms/step - loss: 0.0903 - accuracy: 0.9915 - val_loss: 0.7164 - val_accuracy: 0.7727\n",
            "Epoch 24/25\n",
            "4/4 [==============================] - 3s 685ms/step - loss: 0.0655 - accuracy: 1.0000 - val_loss: 0.7716 - val_accuracy: 0.7955\n",
            "Epoch 25/25\n",
            "4/4 [==============================] - 3s 672ms/step - loss: 0.0451 - accuracy: 1.0000 - val_loss: 0.6817 - val_accuracy: 0.7955\n"
          ]
        }
      ],
      "metadata": {
        "id": "Xa0Q4KaRsiMB"
      }
    },
    {
      "cell_type": "markdown",
      "source": [
        "## Plotting Model's accuracy and loss w.r.t. training and validation set"
      ],
      "metadata": {}
    },
    {
      "cell_type": "code",
      "execution_count": 10,
      "source": [
        "acc = history.history['accuracy']\r\n",
        "val_acc = history.history['val_accuracy']\r\n",
        "loss = history.history['loss']\r\n",
        "val_loss = history.history['val_loss']\r\n",
        "\r\n",
        "epochs_range = range(25)\r\n",
        "\r\n",
        "plt.figure(figsize=(20, 10))\r\n",
        "plt.subplot(2, 2, 1)\r\n",
        "plt.plot(epochs_range, acc, label='Training Accuracy')\r\n",
        "plt.plot(epochs_range, val_acc, label='Validation Accuracy')\r\n",
        "plt.legend(loc='lower right')\r\n",
        "plt.title('Training and Validation Accuracy')\r\n",
        "\r\n",
        "plt.subplot(2, 2, 2)\r\n",
        "plt.plot(epochs_range, loss, label='Training Loss')\r\n",
        "plt.plot(epochs_range, val_loss, label='Validation Loss')\r\n",
        "plt.legend(loc='upper right')\r\n",
        "plt.title('Training and Validation Loss')\r\n",
        "plt.show()"
      ],
      "outputs": [
        {
          "output_type": "display_data",
          "data": {
            "image/png": "[encoded data removed]",
            "text/plain": [
              "<Figure size 1440x720 with 2 Axes>"
            ]
          },
          "metadata": {
            "needs_background": "light"
          }
        }
      ],
      "metadata": {
        "id": "fGJ0o8Fosr5a"
      }
    },
    {
      "cell_type": "markdown",
      "source": [
        "## Making predictions"
      ],
      "metadata": {}
    },
    {
      "cell_type": "code",
      "execution_count": 11,
      "source": [
        "predictions = model.predict_classes(x_val)\r\n",
        "predictions = predictions.reshape(1,-1)[0]\r\n",
        "print(classification_report(y_val, predictions, target_names = ['red (Class 0)','black (Class 1)', 'geographic (Class 2)', 'normal (Class 3)', 'yellow (Class 4)']))"
      ],
      "outputs": [
        {
          "output_type": "stream",
          "name": "stderr",
          "text": [
            "C:\\ProgramData\\Anaconda3\\lib\\site-packages\\keras\\engine\\sequential.py:450: UserWarning: `model.predict_classes()` is deprecated and will be removed after 2021-01-01. Please use instead:* `np.argmax(model.predict(x), axis=-1)`,   if your model does multi-class classification   (e.g. if it uses a `softmax` last-layer activation).* `(model.predict(x) > 0.5).astype(\"int32\")`,   if your model does binary classification   (e.g. if it uses a `sigmoid` last-layer activation).\n",
            "  warnings.warn('`model.predict_classes()` is deprecated and '\n"
          ]
        },
        {
          "output_type": "stream",
          "name": "stdout",
          "text": [
            "                      precision    recall  f1-score   support\n",
            "\n",
            "       red (Class 0)       0.80      1.00      0.89         8\n",
            "     black (Class 1)       0.91      0.91      0.91        11\n",
            "geographic (Class 2)       1.00      0.44      0.62         9\n",
            "    normal (Class 3)       0.55      0.75      0.63         8\n",
            "    yellow (Class 4)       0.88      0.88      0.88         8\n",
            "\n",
            "            accuracy                           0.80        44\n",
            "           macro avg       0.83      0.80      0.78        44\n",
            "        weighted avg       0.84      0.80      0.79        44\n",
            "\n"
          ]
        }
      ],
      "metadata": {
        "id": "jH-VxLOvuUqt"
      }
    },
    {
      "cell_type": "markdown",
      "source": [
        "## Predicting using local web interface at `http://127.0.0.1:7860/`"
      ],
      "metadata": {}
    },
    {
      "cell_type": "code",
      "execution_count": 12,
      "source": [
        "def predict_image(img):\r\n",
        "  img_4d=img.reshape(-1,120,120,3)\r\n",
        "  prediction=model.predict(img_4d)[0]\r\n",
        "  return {labels[i]: float(prediction[i]) for i in range(5)}\r\n",
        "\r\n",
        "image = gr.inputs.Image(shape=(120,120))\r\n",
        "label = gr.outputs.Label(num_top_classes=5)\r\n",
        "\r\n",
        "gr.Interface(fn=predict_image, inputs=image, outputs=label,interpretation='default').launch(debug='True')"
      ],
      "outputs": [
        {
          "output_type": "stream",
          "name": "stdout",
          "text": [
            "Running locally at: http://127.0.0.1:7860/\n",
            "To create a public link, set `share=True` in `launch()`.\n",
            "Interface loading below...\n"
          ]
        },
        {
          "output_type": "display_data",
          "data": {
            "text/html": [
              "\n",
              "        <iframe\n",
              "            width=\"900\"\n",
              "            height=\"500\"\n",
              "            src=\"http://127.0.0.1:7860/\"\n",
              "            frameborder=\"0\"\n",
              "            allowfullscreen\n",
              "        ></iframe>\n",
              "        "
            ],
            "text/plain": [
              "<IPython.lib.display.IFrame at 0x15b2f4d93a0>"
            ]
          },
          "metadata": {}
        }
      ],
      "metadata": {}
    },
    {
      "cell_type": "markdown",
      "source": [
        "## **Note:**\r\n",
        "\r\n",
        "### As can be observed, validation accuracy is lower than training accuracy, and validation loss is likewise higher than training loss. It's due to the fact that there's fewer data. By expanding the data set, accuracy may be improved and losses can be reduced."
      ],
      "metadata": {}
    }
  ]
}